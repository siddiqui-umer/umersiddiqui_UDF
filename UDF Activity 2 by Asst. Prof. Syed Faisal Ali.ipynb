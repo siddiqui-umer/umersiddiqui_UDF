{
 "cells": [
  {
   "cell_type": "markdown",
   "metadata": {},
   "source": [
    "# Python User Define Function Practice Activity - 2 "
   ]
  },
  {
   "cell_type": "markdown",
   "metadata": {},
   "source": [
    "Asst. Prof. Syed Faisal Ali              $\\;\\;\\;\\;\\;\\;$              Programming Fundamentals - FALL 2019 $\\;\\;\\;\\;\\;\\;$ Software Engineering                     $\\;\\;\\;\\;\\;\\;$                   Dated: 27 Nov 2019"
   ]
  },
  {
   "cell_type": "markdown",
   "metadata": {},
   "source": [
    "Question 1: Create a function to find the following:\n",
    "If the base of triangle is 3 cm long and its equilateral triangle and the radius of circle is 1.5 cm then find the area of triangle shaded. \n"
   ]
  },
  {
   "cell_type": "markdown",
   "metadata": {},
   "source": [
    "![proj](q1.jpg)"
   ]
  },
  {
   "cell_type": "code",
   "execution_count": 29,
   "metadata": {},
   "outputs": [
    {
     "name": "stdout",
     "output_type": "stream",
     "text": [
      "\u001b[1mThe shaded area of triangle is:\u001b[0m 19.931416529422965 cm²\n"
     ]
    }
   ],
   "source": [
    "from math import pi\n",
    "def shaded_area( height,base, radius):\n",
    "    'This function pritns the area of shaded circle in this figure'\n",
    "    area_circle = pi * (radius**2)\n",
    "    area_triangle = (base * height) / 2\n",
    "    shaded_area = 6 * (area_triangle) - (area_circle)\n",
    "    print(\"\\033[1mThe shaded area of triangle is:\\033[0m\",shaded_area,\"cm²\")\n",
    "    \n",
    "shaded_area(3,3,1.5)\n",
    "\n",
    "#7.5 mins"
   ]
  },
  {
   "cell_type": "markdown",
   "metadata": {},
   "source": [
    "Question 2: Create a function which can read a dictionary of your family members such as 5 members. \n",
    "1 Abbu, 1 Ammi, 2 Brothers 1 Sister. Now feed this data in dictionary in terms of name and relations.\n",
    "The UDF will ask findrelation() in this you will enter Brother it will return the names of two brothers you have inserted. In case if the relation is not found it will return “Sorry the relation doesn’t exist in your family.” \n"
   ]
  },
  {
   "cell_type": "code",
   "execution_count": null,
   "metadata": {},
   "outputs": [],
   "source": [
    "def findrelation():\n",
    "    'This function will give the name according to your relation(S)'\n",
    "    family = {'Abbu':'Adnan ','Ammi':'Saba','Brother':'Abu Bakar,Huzaifa ','Sister':'Sehar'}\n",
    "    relation = input(\"Enter Relation: \")\n",
    "    \n",
    "    if relation in family:\n",
    "        print(Dict[relation])\n",
    "    else:\n",
    "        print(\"Sorry the relation doesnt exist in your family.\")\n",
    "        \n",
    "findrelation()\n",
    "\n",
    "# 10 mins"
   ]
  },
  {
   "cell_type": "markdown",
   "metadata": {},
   "source": [
    "Question 3: Create a function to find the following:\n",
    "If the base of triangle is 5 cm long and its equilateral triangle and the radius of circle is 2.25 cm then find the area of triangle shaded. \n"
   ]
  },
  {
   "cell_type": "markdown",
   "metadata": {},
   "source": [
    "![proj](q3.jpg)"
   ]
  },
  {
   "cell_type": "code",
   "execution_count": 18,
   "metadata": {},
   "outputs": [
    {
     "name": "stdout",
     "output_type": "stream",
     "text": [
      "\u001b[1mThe shaded area in this figure is :\u001b[0m 19.634954084936208 cm²\n"
     ]
    }
   ],
   "source": [
    "from math import pi\n",
    "\n",
    "def shaded_area(height,base,radius):\n",
    "    'This function pritns the area of shaded circle in this figure'\n",
    "    circle_area = pi * (radius**2)\n",
    "    print(\"\\033[1mThe shaded area in this figure is :\\033[0m\",circle_area,\"cm²\")\n",
    "    \n",
    "shaded_area(2,2,2.5)\n",
    "\n",
    "#3 mins"
   ]
  },
  {
   "cell_type": "markdown",
   "metadata": {},
   "source": [
    "Question 4:\n",
    "Create a function that takes a list of random numbers from users and add only those which are even. If all the numbers are odd it will return sorry no even number found.\n"
   ]
  },
  {
   "cell_type": "code",
   "execution_count": 23,
   "metadata": {},
   "outputs": [
    {
     "data": {
      "text/plain": [
       "0"
      ]
     },
     "execution_count": 23,
     "metadata": {},
     "output_type": "execute_result"
    }
   ],
   "source": [
    "def even_sum(start, end):\n",
    "    'This function returns the sum of even numbers lying in the range provided by the user'\n",
    "    Sum = 0\n",
    "\n",
    "    for i in range(start, end):\n",
    "        if i%2 == 0:\n",
    "            Sum = Sum + i\n",
    "    print(\"\\033[1mThe Sum of even numbers is:\\033[0m\", Sum)\n",
    "    if i%2 != 0:\n",
    "        print('\\033[1mSorry, no even number found.\\033[0m')\n",
    "even_sum(22,87)\n",
    "even_sum(1,2)\n",
    "#4.5 mins\n",
    "\n"
   ]
  },
  {
   "cell_type": "markdown",
   "metadata": {},
   "source": [
    "Question 5:\n",
    "Write a function which can take a list of numbers and it will return sorted list.\n"
   ]
  },
  {
   "cell_type": "code",
   "execution_count": 58,
   "metadata": {},
   "outputs": [
    {
     "data": {
      "text/plain": [
       "[-273, 0, 9, 12, 22, 24, 37, 50, 54, 69, 78, 86, 101]"
      ]
     },
     "execution_count": 58,
     "metadata": {},
     "output_type": "execute_result"
    }
   ],
   "source": [
    "def listsort():\n",
    "    'This function returns the sorted list'\n",
    "    lst = [22 , 54, 9, 24, 86, 37, -273, 0, 101, 69, 78, 50, 12]\n",
    "    lst.sort()\n",
    "    return lst\n",
    "listsort()"
   ]
  },
  {
   "cell_type": "markdown",
   "metadata": {},
   "source": [
    "Question 6:\n",
    "Write a function that will take the radius and return the perimeter and area of circle with 5% increment.\n"
   ]
  },
  {
   "cell_type": "code",
   "execution_count": 79,
   "metadata": {},
   "outputs": [
    {
     "data": {
      "text/plain": [
       "(80.1184666481737, 31.73008580125691)"
      ]
     },
     "execution_count": 79,
     "metadata": {},
     "output_type": "execute_result"
    }
   ],
   "source": [
    "from math import pi\n",
    "def area_circle(rad):\n",
    "    'This function returns the perimeter and area of circle with 5% increment after user provides the radius'\n",
    "    inc_radius = rad + (5/100)\n",
    "    Area = pi * (inc_radius**2)\n",
    "    Perimeter = 2 * pi * inc_radius\n",
    "    return Area,Perimeter\n",
    "   \n",
    "area_circle(5)\n",
    "#8 min"
   ]
  },
  {
   "cell_type": "markdown",
   "metadata": {},
   "source": [
    "Question 7:\n",
    "Write a function that will take the strings as argument and return number of vowels and consonants.\n"
   ]
  },
  {
   "cell_type": "code",
   "execution_count": 67,
   "metadata": {},
   "outputs": [
    {
     "data": {
      "text/plain": [
       "11"
      ]
     },
     "execution_count": 67,
     "metadata": {},
     "output_type": "execute_result"
    }
   ],
   "source": [
    "def sorter(string):\n",
    "    vowels = 0\n",
    "    consonants = 0\n",
    "    for i in string:\n",
    "        if i in \"AEIOUaeiou\":\n",
    "            vowels= vowels + 1\n",
    "        elif i in 'bcdfghjklmnpqrstvwxyzBCDFGHJKLMNPQRSTVWXYZ':\n",
    "            consonants = consonants + 1\n",
    "    return vowels\n",
    "    return consonants\n",
    "sorter('I Have A Dream To Buy Mercedes')\n",
    "#7minutes approx."
   ]
  },
  {
   "cell_type": "markdown",
   "metadata": {},
   "source": [
    "Question 8:\n",
    "Write a function that will take length and breadth for a rectangle and return perimeter and area of rectangle with 8% increment.\n"
   ]
  },
  {
   "cell_type": "code",
   "execution_count": 74,
   "metadata": {},
   "outputs": [
    {
     "data": {
      "text/plain": [
       "(66.4464, 36.32)"
      ]
     },
     "execution_count": 74,
     "metadata": {},
     "output_type": "execute_result"
    }
   ],
   "source": [
    "from math import pi\n",
    "def arearectangle(length, breadth):\n",
    "    increment_length = length + (8/100)\n",
    "    increment_breadth = breadth + (8/100)\n",
    "    Area = increment_length*increment_breadth\n",
    "    Perimeter = 2*(increment_length + increment_breadth)\n",
    "    return Area,Perimeter\n",
    "\n",
    "arearectangle(13, 5)\n",
    "#7.5 mins"
   ]
  },
  {
   "cell_type": "markdown",
   "metadata": {},
   "source": [
    "Question 9:\n",
    "Write a function that can take the numbers in strings. From string find which number is even and which one is odd. Save them in two different lists and generate the result.\n"
   ]
  },
  {
   "cell_type": "code",
   "execution_count": 81,
   "metadata": {},
   "outputs": [
    {
     "data": {
      "text/plain": [
       "(['4', '80', '34', '98'], ['77', '5', '21', '1'])"
      ]
     },
     "execution_count": 81,
     "metadata": {},
     "output_type": "execute_result"
    }
   ],
   "source": [
    "def numbers():\n",
    "    numbers = ['4', '80', '77', '5', '21', '34', '98', '1']\n",
    "    even = []\n",
    "    odd = []\n",
    "    for i in numbers:\n",
    "        if int(i) % 2 == 0:\n",
    "            even.append(i)\n",
    "        else:\n",
    "            odd.append(i)\n",
    "    return even,odd\n",
    "numbers()\n",
    "#18minutes approx."
   ]
  },
  {
   "cell_type": "markdown",
   "metadata": {},
   "source": [
    "Question 10:\n",
    "Write a function which will take the string from the user and return how many alphabets have been used in it and which alphabets are missing.\n"
   ]
  },
  {
   "cell_type": "code",
   "execution_count": 89,
   "metadata": {},
   "outputs": [
    {
     "data": {
      "text/plain": [
       "(10, 16)"
      ]
     },
     "execution_count": 89,
     "metadata": {},
     "output_type": "execute_result"
    }
   ],
   "source": [
    "def alphabet(string):\n",
    "    'This function will return the count of used and unused alphabets'\n",
    "    alphabets = ['a','b','c','d','e','f','g','h','i','j','k','l','m','n','o','p','q','r','s','t','u','v','w','x','y','z',\n",
    "                 'A','B','C','D','E','F','G','H','I','J','K','L','M','N','O','P','Q','R','S','T','U','V','W','X','Y','Z']\n",
    "    used_alphabets = []\n",
    "    for i in string:\n",
    "        if i in alphabets:\n",
    "            used_alphabets = used_alphabets + list(i)\n",
    "            used_letters = len(used_alphabets)\n",
    "            remaining_letters = 26 -  used_letters \n",
    "    return used_letters,remaining_letters\n",
    "\n",
    "alphabet(\"the lazy fox\")"
   ]
  },
  {
   "cell_type": "markdown",
   "metadata": {},
   "source": [
    "Question 11:\n",
    "Write a function that will take verbs in words and return a list of verbs with continuous tense by adding (ing) at the end of each verb.\n"
   ]
  },
  {
   "cell_type": "code",
   "execution_count": null,
   "metadata": {},
   "outputs": [],
   "source": [
    "def verbs():\n",
    "    verb = input(\"Enter a verb: \")\n",
    "    new_word = verb + \"ing\"\n",
    "    return new_word\n",
    "verbs()"
   ]
  },
  {
   "cell_type": "markdown",
   "metadata": {},
   "source": [
    "Question 12:\n",
    "Make a function which can take two radius of circles and find the areas of it and subtract smaller one from larger one and tell the remaining area of circle.\n"
   ]
  },
  {
   "cell_type": "code",
   "execution_count": 2,
   "metadata": {},
   "outputs": [
    {
     "data": {
      "text/plain": [
       "103.67255756846316"
      ]
     },
     "execution_count": 2,
     "metadata": {},
     "output_type": "execute_result"
    }
   ],
   "source": [
    "from math import pi\n",
    "def Area(rad1, rad2):\n",
    "    Area1 = pi * (rad1 ** 2)\n",
    "    Area2 = pi * (rad2 ** 2)\n",
    "    if Area1 > Area2:\n",
    "        Total_area = Area1-Area2\n",
    "    else:\n",
    "        Total_area = Area2-Area1\n",
    "    return Total_area\n",
    "Area(4, 7)\n",
    "#6 mins."
   ]
  },
  {
   "cell_type": "markdown",
   "metadata": {},
   "source": [
    "Question 13:\n",
    "Write a function that will take a string and calculate number of Upper case letters and lower case letters.\n"
   ]
  },
  {
   "cell_type": "code",
   "execution_count": 5,
   "metadata": {},
   "outputs": [
    {
     "data": {
      "text/plain": [
       "(1, 50)"
      ]
     },
     "execution_count": 5,
     "metadata": {},
     "output_type": "execute_result"
    }
   ],
   "source": [
    "def case_counter(string):\n",
    "    'This function counts the Upper case and lower case letters respectively'\n",
    "    upper = 0\n",
    "    lower = 0\n",
    "    for i in string:\n",
    "        if i >='A' and i <= 'Z':\n",
    "            upper += 1\n",
    "        elif i >= 'a' and i <= 'z':\n",
    "            lower += 1\n",
    "    return upper,lower\n",
    "   \n",
    "case_counter('The solution is to loop through the string for each character')\n",
    "#5 mins"
   ]
  },
  {
   "cell_type": "markdown",
   "metadata": {},
   "source": [
    "Question 14:\n",
    "Write a function which will take length and breadth of two rectangles. Subtract the smaller rectangle from the larger rectangle and return the area left behind.\n"
   ]
  },
  {
   "cell_type": "code",
   "execution_count": 8,
   "metadata": {},
   "outputs": [
    {
     "data": {
      "text/plain": [
       "-248"
      ]
     },
     "execution_count": 8,
     "metadata": {},
     "output_type": "execute_result"
    }
   ],
   "source": [
    "from math import pi\n",
    "def area(len1, bre1, len2, bre2):\n",
    "    area1 = len1*bre1\n",
    "    area2 = len2*bre2\n",
    "    if area1 < area2:\n",
    "        remaining_area = area1 - area2\n",
    "    else:\n",
    "        remaining_area = area2 - area1\n",
    "    \n",
    "    return remaining_area\n",
    "area(22, 12, 8, 2)"
   ]
  },
  {
   "cell_type": "markdown",
   "metadata": {},
   "source": [
    "Question 15:\n",
    "Create a function that can add the fractions in series such as 1 to 8 = 1/8+1/7+1/6+1/5 …… ½ and return the result in fraction not in decimal.\n"
   ]
  },
  {
   "cell_type": "code",
   "execution_count": 11,
   "metadata": {},
   "outputs": [
    {
     "data": {
      "text/plain": [
       "Fraction(481, 280)"
      ]
     },
     "execution_count": 11,
     "metadata": {},
     "output_type": "execute_result"
    }
   ],
   "source": [
    "from fractions import Fraction\n",
    "def fraction():\n",
    "    sum_series = Fraction(1,8)+Fraction(1,7)+Fraction(1,6)+Fraction(1,5)+Fraction(1,4)+Fraction(1,3)+Fraction(1,2)\n",
    "    return sum_series\n",
    "fraction()\n",
    "#30 mins"
   ]
  },
  {
   "cell_type": "markdown",
   "metadata": {},
   "source": [
    "Question 16:\n",
    "Write a function which will take height and base for a triangle and \n"
   ]
  },
  {
   "cell_type": "code",
   "execution_count": null,
   "metadata": {},
   "outputs": [],
   "source": []
  },
  {
   "cell_type": "markdown",
   "metadata": {},
   "source": [
    "Question 17:\n",
    "Write a function which will take a list of fruits names. The function will return how many alphabets are repetitive in the names of fruits and how many are unique letters.\n"
   ]
  },
  {
   "cell_type": "code",
   "execution_count": 19,
   "metadata": {},
   "outputs": [
    {
     "name": "stdout",
     "output_type": "stream",
     "text": [
      "The unique alphabets are: ['g', 'u', 'v', 'l', 'c', 'h', 's', 't', 'w']\n",
      "The repetitive alphabets are: ['a', 'b', 'n', 'y', 'e', 'r']\n"
     ]
    }
   ],
   "source": [
    "def count_letters():\n",
    "    fruits = ['guava', 'banana','lyche','strawberry']\n",
    "    counted = {}\n",
    "    for i in fruits:\n",
    "        for j in i:\n",
    "            if j in counted:\n",
    "                counted[j] += 1\n",
    "            else:\n",
    "                counted[j] = 1\n",
    "    print('The unique alphabets are:',[j for j in counted if counted[j] == 1])\n",
    "    print('The repetitive alphabets are:',[j for j in counted if counted[j] > 1])\n",
    "\n",
    "count_letters()\n",
    "#32 mins (Reason: nested looping)\n",
    "   "
   ]
  },
  {
   "cell_type": "markdown",
   "metadata": {},
   "source": [
    "Question 18:\n",
    "Write a function that can take square length and radius of circle. Find the area of both and subtract the smallest shape from largest one and return the remaining shape area.\n"
   ]
  },
  {
   "cell_type": "code",
   "execution_count": 22,
   "metadata": {},
   "outputs": [
    {
     "data": {
      "text/plain": [
       "38.867258771281655"
      ]
     },
     "execution_count": 22,
     "metadata": {},
     "output_type": "execute_result"
    }
   ],
   "source": [
    "from math import pi\n",
    "def sqArea(sq_length, radius):\n",
    "    area_circle = 2 * pi * radius\n",
    "    area_sqlength = sq_length ** 2\n",
    "    \n",
    "    if area_circle < area_sqlength:\n",
    "        remaining_area = area_sqlength-area_circle\n",
    "    else:\n",
    "        remaining_area = area_circle-area_sqlength\n",
    "    return remaining_area\n",
    "sqArea(8, 4)\n",
    "#10 mins"
   ]
  }
 ],
 "metadata": {
  "kernelspec": {
   "display_name": "Python 3",
   "language": "python",
   "name": "python3"
  },
  "language_info": {
   "codemirror_mode": {
    "name": "ipython",
    "version": 3
   },
   "file_extension": ".py",
   "mimetype": "text/x-python",
   "name": "python",
   "nbconvert_exporter": "python",
   "pygments_lexer": "ipython3",
   "version": "3.7.4"
  }
 },
 "nbformat": 4,
 "nbformat_minor": 2
}
